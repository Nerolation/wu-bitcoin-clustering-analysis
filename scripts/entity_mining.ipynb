{
 "cells": [
  {
   "cell_type": "code",
   "execution_count": 1,
   "id": "85d6928e",
   "metadata": {},
   "outputs": [],
   "source": [
    "import os\n",
    "import sys\n",
    "import requests\n",
    "from bs4 import BeautifulSoup\n",
    "import pandas as pd\n",
    "import time\n",
    "import re\n",
    "import itertools\n",
    "import numpy as np\n",
    "from yaml import safe_load"
   ]
  },
  {
   "cell_type": "markdown",
   "id": "e4650af9",
   "metadata": {},
   "source": [
    "# Walletexplorer"
   ]
  },
  {
   "cell_type": "code",
   "execution_count": 2,
   "id": "6a02bbab",
   "metadata": {},
   "outputs": [],
   "source": [
    "page = requests.get(\"https://www.walletexplorer.com/\")"
   ]
  },
  {
   "cell_type": "code",
   "execution_count": 3,
   "id": "45713ad0",
   "metadata": {},
   "outputs": [],
   "source": [
    "soup = BeautifulSoup(page.text, 'html.parser')"
   ]
  },
  {
   "cell_type": "code",
   "execution_count": 14,
   "id": "3ffe2bfd",
   "metadata": {},
   "outputs": [],
   "source": [
    "services = [list(map(lambda x: x.get('href'), i.find_all(\"a\"))) for i in soup.find_all(\"table\")[0].find_all(\"li\")]\n",
    "df = pd.DataFrame(columns=[\"service\", \"address\"])\n",
    "l = len(list(itertools.chain(*services)))\n",
    "\n",
    "# Add largest but unknown wallet\n",
    "services.append(\"/wallet/00000014ea8b260f\")"
   ]
  },
  {
   "cell_type": "code",
   "execution_count": 15,
   "id": "00cfd11f",
   "metadata": {
    "scrolled": false
   },
   "outputs": [
    {
     "name": "stdout",
     "output_type": "stream",
     "text": [
      "['/wallet/00000014ea8b260f']\n",
      "0/388\n",
      "https://www.walletexplorer.com/wallet/00000014ea8b260f/addresses\n",
      "Processing https://www.walletexplorer.com/wallet/00000014ea8b260f/addresses?page=311659\n"
     ]
    }
   ],
   "source": [
    "c = 0\n",
    "for service in services:\n",
    "    print(service)\n",
    "    w = np.random.randint(3,10)\n",
    "    print(\"{}/{}\".format(c, l))\n",
    "    for version in service:\n",
    "        if version.split(\"/\")[-1] in set(df[\"service\"]):\n",
    "            continue\n",
    "        print(\"https://www.walletexplorer.com{}/addresses\".format(version))\n",
    "        page = requests.get(\"https://www.walletexplorer.com{}/addresses\".format(version))\n",
    "        page = BeautifulSoup(page.text, 'html.parser')\n",
    "        max_site = page.find_all(\"div\", {\"class\": \"paging\"})[0].get_text()\n",
    "        max_site = re.search(\"[0-9]+./.([0-9]+)\", max_site).group().split(\" / \")[1]\n",
    "        url = \"https://www.walletexplorer.com{}/addresses?page={}\".format(version, max_site)\n",
    "        print(\"Processing {}\".format(url))\n",
    "        page = requests.get(\"https://www.walletexplorer.com{}/addresses?page={}\".format(version, max_site))\n",
    "        page = BeautifulSoup(page.text, 'html.parser')\n",
    "        addr = [i.get_text() for i in page.find_all(\"table\")[0].find_all(\"a\")]\n",
    "        serv = [version.split(\"/\")[-1]]*len(addr)\n",
    "        addr = list(zip(serv, addr))\n",
    "        addr = pd.DataFrame(addr, columns=[\"service\", \"address\"])\n",
    "        df = df.append(addr)\n",
    "        time.sleep(w)\n",
    "    c += 1\n",
    "df.to_csv(\"services_walletexplorer.csv\", index=False)"
   ]
  },
  {
   "cell_type": "markdown",
   "id": "b7a23169",
   "metadata": {},
   "source": [
    "# Graphsense"
   ]
  },
  {
   "cell_type": "code",
   "execution_count": null,
   "id": "48c3b83c",
   "metadata": {},
   "outputs": [],
   "source": [
    "df = pd.DataFrame(columns=[\"service\", \"address\"])\n",
    "for file in os.listdir(\"./graphsense-tagpacks/packs/address\"):\n",
    "    _label = None\n",
    "    _df    = None\n",
    "    if file in [\"samourai.yaml\", \"wasabi_collector.yaml\", \"ofac.yaml\"]:\n",
    "        continue\n",
    "    print(\"Parsing {}\".format(file), end=\"\\r\")\n",
    "    with open('./graphsense-tagpacks/packs/address/{}'.format(file), 'r') as f:\n",
    "        _df    = pd.json_normalize(safe_load(f))\n",
    "        try:\n",
    "            _label = _df[\"label\"][0]            \n",
    "        except KeyError:\n",
    "            pass\n",
    "        try:\n",
    "            if _df[\"currency\"][0] != \"BTC\":\n",
    "                continue\n",
    "        except:\n",
    "            pass\n",
    "        \n",
    "        for i in _df[\"tags\"][0]:\n",
    "            try:\n",
    "                if i[\"currency\"] != \"BTC\":\n",
    "                    continue\n",
    "            except:\n",
    "                pass\n",
    "            try:\n",
    "                _label = i[\"label\"]\n",
    "            except:\n",
    "                pass\n",
    "\n",
    "            df.loc[len(df)] = [_label, i[\"address\"]]\n",
    "    \n",
    "    print(\"Successfully parsed {:<28} {}: {:,.0f}\".format(file+\";\", \"Length of df\", len(df)))\n",
    "\n",
    "df.to_csv(\"./services_graphsense.csv\", index=False)"
   ]
  },
  {
   "cell_type": "markdown",
   "id": "a5ac6153",
   "metadata": {},
   "source": [
    "# Merge both"
   ]
  },
  {
   "cell_type": "code",
   "execution_count": 52,
   "id": "9cea9459",
   "metadata": {},
   "outputs": [],
   "source": [
    "df_we  = pd.read_csv('./services_walletexplorer.csv')\n",
    "df_gs  = pd.read_csv('./services_graphsense.csv')\n",
    "df_all = pd.concat([df_gs,df_we]).drop_duplicates(['address'], keep='last', ignore_index=True)\n",
    "df_all.to_csv(\"./services_all.csv\", index=False)"
   ]
  }
 ],
 "metadata": {
  "kernelspec": {
   "display_name": "btc",
   "language": "python",
   "name": "btc"
  },
  "language_info": {
   "codemirror_mode": {
    "name": "ipython",
    "version": 3
   },
   "file_extension": ".py",
   "mimetype": "text/x-python",
   "name": "python",
   "nbconvert_exporter": "python",
   "pygments_lexer": "ipython3",
   "version": "3.8.10"
  }
 },
 "nbformat": 4,
 "nbformat_minor": 5
}
